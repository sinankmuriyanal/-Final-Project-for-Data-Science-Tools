{
 "cells": [
  {
   "cell_type": "markdown",
   "id": "1737adb0-38b7-4c2d-9388-23bc02573808",
   "metadata": {},
   "source": [
    "# Final Project for Data Science Tools"
   ]
  },
  {
   "cell_type": "markdown",
   "id": "04f928a6-6a4a-44e8-b1f0-499ed46b1918",
   "metadata": {},
   "source": [
    "# Introduction  \n",
    "This notebook is part of the final project for the Data Science Tools course. It demonstrates the use of markdown and code cells in Jupyterlite Notebook.\n"
   ]
  },
  {
   "cell_type": "markdown",
   "id": "ced7b64f-40f8-4ce1-b20f-d56b4abb2737",
   "metadata": {},
   "source": [
    "## Data Science Languages  \n",
    "- Python  \n",
    "- R  \n",
    "- SQL  \n",
    "- Julia  \n",
    "- Java  \n"
   ]
  },
  {
   "cell_type": "markdown",
   "id": "5ee8cd92-e694-400f-9aeb-b2fa68737524",
   "metadata": {},
   "source": [
    "## Data Science Libraries  \n",
    "- NumPy  \n",
    "- Pandas  \n",
    "- Matplotlib  \n",
    "- Scikit-learn  \n",
    "- TensorFlow  \n",
    "- ggplot2  \n"
   ]
  },
  {
   "cell_type": "markdown",
   "id": "f73dabad-ea37-44fc-ae61-44f49eb27879",
   "metadata": {},
   "source": [
    "## Data Science Libraries  \n",
    "- NumPy  \n",
    "- Pandas  \n",
    "- Matplotlib  \n",
    "- Scikit-learn  \n",
    "- TensorFlow  \n",
    "- ggplot2  \n"
   ]
  },
  {
   "cell_type": "markdown",
   "id": "4e0c2818-649f-4934-813f-8eb26395dd6e",
   "metadata": {},
   "source": [
    "## Data Science Tools  \n",
    "\n",
    "| Tool          | Purpose                       |  \n",
    "|---------------|-------------------------------|  \n",
    "| Jupyter       | Interactive coding notebooks  |  \n",
    "| RStudio       | Data analysis in R            |  \n",
    "| Apache Spark  | Distributed computing         |  \n",
    "| Tableau       | Data visualization            |  \n"
   ]
  },
  {
   "cell_type": "markdown",
   "id": "3c7dd51a-bf43-42fe-9a5e-2493854be559",
   "metadata": {},
   "source": [
    "## Arithmetic Expression Examples  \n",
    "Below are examples of basic arithmetic operations using Python code.\n"
   ]
  },
  {
   "cell_type": "code",
   "execution_count": 7,
   "id": "b7086732-3824-434b-8e1a-1e2ff6f18762",
   "metadata": {},
   "outputs": [
    {
     "data": {
      "text/plain": [
       "40"
      ]
     },
     "execution_count": 7,
     "metadata": {},
     "output_type": "execute_result"
    }
   ],
   "source": [
    "# Multiply and add numbers  \n",
    "result = (5 * 6) + 10  \n",
    "result  \n"
   ]
  },
  {
   "cell_type": "code",
   "execution_count": 11,
   "id": "d56c7c70-77b9-4f78-b3d4-c318540128c0",
   "metadata": {},
   "outputs": [
    {
     "name": "stdout",
     "output_type": "stream",
     "text": [
      "2.0\n"
     ]
    }
   ],
   "source": [
    "#Convert minutes to hours\n",
    "minutes = 120\n",
    "hours = minutes / 60\n",
    "print(hours)"
   ]
  },
  {
   "cell_type": "markdown",
   "id": "545642bd-052a-4797-ae0a-96140c5b426c",
   "metadata": {},
   "source": [
    "## Objectives  \n",
    "- Understand the basics of Jupyterlite Notebook  \n",
    "- Use Markdown for documentation  \n",
    "- Write Python code for arithmetic operations  \n",
    "- Share notebooks publicly using GitHub  \n"
   ]
  },
  {
   "cell_type": "markdown",
   "id": "a9bc277a-2785-4faf-9a56-69d729b6b3b1",
   "metadata": {},
   "source": [
    "## Author  \n",
    "Muhammed Sinan K\n"
   ]
  }
 ],
 "metadata": {
  "kernelspec": {
   "display_name": "Python 3 (ipykernel)",
   "language": "python",
   "name": "python3"
  },
  "language_info": {
   "codemirror_mode": {
    "name": "ipython",
    "version": 3
   },
   "file_extension": ".py",
   "mimetype": "text/x-python",
   "name": "python",
   "nbconvert_exporter": "python",
   "pygments_lexer": "ipython3",
   "version": "3.12.1"
  }
 },
 "nbformat": 4,
 "nbformat_minor": 5
}
